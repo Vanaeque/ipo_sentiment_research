{
 "cells": [
  {
   "cell_type": "code",
   "execution_count": 1,
   "id": "6dcfadd4-903f-454e-9d94-2dc10306c973",
   "metadata": {},
   "outputs": [],
   "source": [
    "import requests\n",
    "from bs4 import BeautifulSoup\n",
    "from fake_useragent import UserAgent\n",
    "\n",
    "import pandas as pd\n",
    "import re\n",
    "import time\n",
    "from tqdm.notebook import tqdm"
   ]
  },
  {
   "cell_type": "code",
   "execution_count": 2,
   "id": "72c77de6-e5f5-477b-8533-4aac54bd8b9d",
   "metadata": {},
   "outputs": [],
   "source": [
    "url = 'https://in.tgstat.com/ru/tag/investments?ysclid=ltxecd5p1e666733084'\n",
    "res = requests.get(url, headers={'User-Agent': UserAgent().chrome})"
   ]
  },
  {
   "cell_type": "code",
   "execution_count": 3,
   "id": "104cab08-432e-4b1f-a878-c2908ecf1218",
   "metadata": {},
   "outputs": [],
   "source": [
    "soup = BeautifulSoup(res.content)"
   ]
  },
  {
   "cell_type": "code",
   "execution_count": 4,
   "id": "1231e8f8-4675-4260-97d4-807be673d21f",
   "metadata": {},
   "outputs": [],
   "source": [
    "channel_blocks = soup.find_all('div', {'class':r'col-12 col-sm-6 col-lg-4'})"
   ]
  },
  {
   "cell_type": "code",
   "execution_count": 5,
   "id": "31c35ba0-f0bf-4606-a61c-00222e4d1998",
   "metadata": {},
   "outputs": [],
   "source": [
    "names = []\n",
    "subscribers = []\n",
    "links = []\n",
    "\n",
    "for block in channel_blocks:\n",
    "    names.append(block.find('div', {'class' : r'font-16 text-dark text-truncate'}).text)\n",
    "    subscribers.append(int(block.find('div', {'class' : r'font-12 text-truncate'})\\\n",
    "                      .text.strip()[:-12].replace(' ', '')))\n",
    "    link = block.find(attrs={'class' : r'text-body'}, href=True)['href']\n",
    "    \n",
    "    dog_sigh_pos = link.find('@')\n",
    "    slash_pos = [m.start() for m in re.finditer('/', link)][-1]\n",
    "    \n",
    "    if dog_sigh_pos != -1:\n",
    "        link = 'https://t.me/' + link[dog_sigh_pos+1:]\n",
    "    else:\n",
    "        link = 'https://t.me/' + link[slash_pos+1:]\n",
    "        \n",
    "    links.append(link)"
   ]
  },
  {
   "cell_type": "code",
   "execution_count": 6,
   "id": "4d53f871-8a7c-4a8e-a672-bfbbe69ed62b",
   "metadata": {},
   "outputs": [
    {
     "data": {
      "text/html": [
       "<div>\n",
       "<style scoped>\n",
       "    .dataframe tbody tr th:only-of-type {\n",
       "        vertical-align: middle;\n",
       "    }\n",
       "\n",
       "    .dataframe tbody tr th {\n",
       "        vertical-align: top;\n",
       "    }\n",
       "\n",
       "    .dataframe thead th {\n",
       "        text-align: right;\n",
       "    }\n",
       "</style>\n",
       "<table border=\"1\" class=\"dataframe\">\n",
       "  <thead>\n",
       "    <tr style=\"text-align: right;\">\n",
       "      <th></th>\n",
       "      <th>name</th>\n",
       "      <th>subscribers</th>\n",
       "      <th>link</th>\n",
       "    </tr>\n",
       "  </thead>\n",
       "  <tbody>\n",
       "    <tr>\n",
       "      <th>0</th>\n",
       "      <td>Тинькофф Инвестиции</td>\n",
       "      <td>669794</td>\n",
       "      <td>https://t.me/tinkoff_invest_official</td>\n",
       "    </tr>\n",
       "    <tr>\n",
       "      <th>1</th>\n",
       "      <td>Альфа-Инвестиции</td>\n",
       "      <td>421969</td>\n",
       "      <td>https://t.me/alfa_investments</td>\n",
       "    </tr>\n",
       "    <tr>\n",
       "      <th>2</th>\n",
       "      <td>Мои Инвестиции</td>\n",
       "      <td>288064</td>\n",
       "      <td>https://t.me/omyinvestments</td>\n",
       "    </tr>\n",
       "    <tr>\n",
       "      <th>3</th>\n",
       "      <td>bitkogan</td>\n",
       "      <td>285107</td>\n",
       "      <td>https://t.me/bitkogan</td>\n",
       "    </tr>\n",
       "    <tr>\n",
       "      <th>4</th>\n",
       "      <td>СберИнвестиции</td>\n",
       "      <td>232507</td>\n",
       "      <td>https://t.me/SberInvestments</td>\n",
       "    </tr>\n",
       "    <tr>\n",
       "      <th>5</th>\n",
       "      <td>Start The History</td>\n",
       "      <td>224910</td>\n",
       "      <td>https://t.me/Hj9bW7gkrulhMGMy</td>\n",
       "    </tr>\n",
       "    <tr>\n",
       "      <th>6</th>\n",
       "      <td>InvestFuture</td>\n",
       "      <td>194692</td>\n",
       "      <td>https://t.me/investfuture</td>\n",
       "    </tr>\n",
       "    <tr>\n",
       "      <th>7</th>\n",
       "      <td>Кубышка | Евгений Марченко</td>\n",
       "      <td>174189</td>\n",
       "      <td>https://t.me/AAAAAELQAc1vKST8oZwVxg</td>\n",
       "    </tr>\n",
       "    <tr>\n",
       "      <th>8</th>\n",
       "      <td>Лимон на чай</td>\n",
       "      <td>153156</td>\n",
       "      <td>https://t.me/lemonfortea</td>\n",
       "    </tr>\n",
       "    <tr>\n",
       "      <th>9</th>\n",
       "      <td>РынкиДеньгиВласть | РДВ</td>\n",
       "      <td>149994</td>\n",
       "      <td>https://t.me/AK47pfl</td>\n",
       "    </tr>\n",
       "  </tbody>\n",
       "</table>\n",
       "</div>"
      ],
      "text/plain": [
       "                         name  subscribers  \\\n",
       "0         Тинькофф Инвестиции       669794   \n",
       "1            Альфа-Инвестиции       421969   \n",
       "2              Мои Инвестиции       288064   \n",
       "3                    bitkogan       285107   \n",
       "4              СберИнвестиции       232507   \n",
       "5           Start The History       224910   \n",
       "6                InvestFuture       194692   \n",
       "7  Кубышка | Евгений Марченко       174189   \n",
       "8                Лимон на чай       153156   \n",
       "9     РынкиДеньгиВласть | РДВ       149994   \n",
       "\n",
       "                                   link  \n",
       "0  https://t.me/tinkoff_invest_official  \n",
       "1         https://t.me/alfa_investments  \n",
       "2           https://t.me/omyinvestments  \n",
       "3                 https://t.me/bitkogan  \n",
       "4          https://t.me/SberInvestments  \n",
       "5         https://t.me/Hj9bW7gkrulhMGMy  \n",
       "6             https://t.me/investfuture  \n",
       "7   https://t.me/AAAAAELQAc1vKST8oZwVxg  \n",
       "8              https://t.me/lemonfortea  \n",
       "9                  https://t.me/AK47pfl  "
      ]
     },
     "execution_count": 6,
     "metadata": {},
     "output_type": "execute_result"
    }
   ],
   "source": [
    "channels_info = pd.DataFrame({'name' : names,\n",
    "                             'subscribers' : subscribers, \n",
    "                             'link' : links})\n",
    "\n",
    "channels_info.head(10)"
   ]
  },
  {
   "cell_type": "code",
   "execution_count": 9,
   "id": "afcdd0e8-ab79-4d79-906b-0d936068eb6b",
   "metadata": {},
   "outputs": [],
   "source": [
    "from telethon import TelegramClient\n",
    "from telegram import config"
   ]
  },
  {
   "cell_type": "code",
   "execution_count": 10,
   "id": "a4cc75b1-eb6a-45c7-a60c-005a90061da6",
   "metadata": {},
   "outputs": [],
   "source": [
    "api_id = config.API_ID\n",
    "api_hash = config.API_HASH\n",
    "name = 'test'"
   ]
  },
  {
   "cell_type": "code",
   "execution_count": 11,
   "id": "f52deb13-dd32-41a5-b233-0ac5540b27a0",
   "metadata": {},
   "outputs": [],
   "source": [
    "client = TelegramClient(name, api_id, api_hash)\n",
    "await client.start()"
   ]
  },
  {
   "cell_type": "code",
   "execution_count": 12,
   "id": "92756490-601b-4ff0-8526-2dd17ab92e15",
   "metadata": {},
   "outputs": [
    {
     "data": {
      "text/plain": [
       "<telethon.client.telegramclient.TelegramClient at 0x7fddf184b520>"
      ]
     },
     "execution_count": 12,
     "metadata": {},
     "output_type": "execute_result"
    }
   ],
   "source": [
    "from telethon.tl.functions.messages import GetHistoryRequest"
   ]
  },
  {
   "cell_type": "code",
   "execution_count": 52,
   "id": "8e6cc636-73ee-42b9-a881-d321efe52aac",
   "metadata": {},
   "outputs": [
    {
     "data": {
      "application/vnd.jupyter.widget-view+json": {
       "model_id": "2b018dc45ef148f9bae704aa9a302940",
       "version_major": 2,
       "version_minor": 0
      },
      "text/plain": [
       "  0%|          | 0/10 [00:00<?, ?it/s]"
      ]
     },
     "metadata": {},
     "output_type": "display_data"
    }
   ],
   "source": [
    "cnt = 0\n",
    "msg = []\n",
    "channels_info['is_restricted'] = True\n",
    "channels_info['error_while_parsing'] = False\n",
    "\n",
    "\n",
    "for i, channel in enumerate(tqdm(channels_info.to_dict('records'))):\n",
    "    try:\n",
    "        url = channel['link']\n",
    "        tg_channel = await client.get_entity(url)\n",
    "\n",
    "        history = await client(GetHistoryRequest(\n",
    "            peer=tg_channel,\n",
    "            offset_id=0,\n",
    "            offset_date=None, add_offset=0,\n",
    "            limit=1, max_id=0, min_id=0,\n",
    "            hash=0))\n",
    "\n",
    "        if history.messages[0].to_dict()['message'] != '':\n",
    "            channels_info.at[i, 'is_restricted'] = False\n",
    "    except:\n",
    "        channels_info.at[i, 'error_while_parsing'] = True"
   ]
  },
  {
   "cell_type": "code",
   "execution_count": 56,
   "id": "1c70df82-9ff8-4b9b-8296-67015be27c74",
   "metadata": {},
   "outputs": [
    {
     "data": {
      "text/html": [
       "<div>\n",
       "<style scoped>\n",
       "    .dataframe tbody tr th:only-of-type {\n",
       "        vertical-align: middle;\n",
       "    }\n",
       "\n",
       "    .dataframe tbody tr th {\n",
       "        vertical-align: top;\n",
       "    }\n",
       "\n",
       "    .dataframe thead th {\n",
       "        text-align: right;\n",
       "    }\n",
       "</style>\n",
       "<table border=\"1\" class=\"dataframe\">\n",
       "  <thead>\n",
       "    <tr style=\"text-align: right;\">\n",
       "      <th></th>\n",
       "      <th>name</th>\n",
       "      <th>subscribers</th>\n",
       "      <th>link</th>\n",
       "    </tr>\n",
       "  </thead>\n",
       "  <tbody>\n",
       "    <tr>\n",
       "      <th>0</th>\n",
       "      <td>Альфа-Инвестиции</td>\n",
       "      <td>421969</td>\n",
       "      <td>https://t.me/alfa_investments</td>\n",
       "    </tr>\n",
       "    <tr>\n",
       "      <th>1</th>\n",
       "      <td>Мои Инвестиции</td>\n",
       "      <td>288064</td>\n",
       "      <td>https://t.me/omyinvestments</td>\n",
       "    </tr>\n",
       "    <tr>\n",
       "      <th>2</th>\n",
       "      <td>bitkogan</td>\n",
       "      <td>285107</td>\n",
       "      <td>https://t.me/bitkogan</td>\n",
       "    </tr>\n",
       "    <tr>\n",
       "      <th>3</th>\n",
       "      <td>СберИнвестиции</td>\n",
       "      <td>232507</td>\n",
       "      <td>https://t.me/SberInvestments</td>\n",
       "    </tr>\n",
       "    <tr>\n",
       "      <th>4</th>\n",
       "      <td>Лимон на чай</td>\n",
       "      <td>153156</td>\n",
       "      <td>https://t.me/lemonfortea</td>\n",
       "    </tr>\n",
       "    <tr>\n",
       "      <th>5</th>\n",
       "      <td>РынкиДеньгиВласть | РДВ</td>\n",
       "      <td>149994</td>\n",
       "      <td>https://t.me/AK47pfl</td>\n",
       "    </tr>\n",
       "  </tbody>\n",
       "</table>\n",
       "</div>"
      ],
      "text/plain": [
       "                      name  subscribers                           link\n",
       "0         Альфа-Инвестиции       421969  https://t.me/alfa_investments\n",
       "1           Мои Инвестиции       288064    https://t.me/omyinvestments\n",
       "2                 bitkogan       285107          https://t.me/bitkogan\n",
       "3           СберИнвестиции       232507   https://t.me/SberInvestments\n",
       "4             Лимон на чай       153156       https://t.me/lemonfortea\n",
       "5  РынкиДеньгиВласть | РДВ       149994           https://t.me/AK47pfl"
      ]
     },
     "execution_count": 56,
     "metadata": {},
     "output_type": "execute_result"
    }
   ],
   "source": [
    "channels_info = channels_info[~channels_info['is_restricted'] & ~channels_info['error_while_parsing']]\\\n",
    "                            [['name', 'subscribers', 'link']]\\\n",
    "                            .reset_index(drop=True)\n",
    "channels_info.head(10)"
   ]
  },
  {
   "cell_type": "code",
   "execution_count": 58,
   "id": "a40a812a-8544-4ca6-9e1f-d7756c9c40e5",
   "metadata": {},
   "outputs": [],
   "source": [
    "channels_info.to_csv('../../data/telegram/channels.csv')"
   ]
  },
  {
   "cell_type": "code",
   "execution_count": null,
   "id": "4845a47a-7f93-46ba-a119-0727c7b798c3",
   "metadata": {},
   "outputs": [],
   "source": []
  },
  {
   "cell_type": "code",
   "execution_count": null,
   "id": "328bdbf6-7dfc-487d-8a3f-8892397d5df6",
   "metadata": {},
   "outputs": [],
   "source": []
  },
  {
   "cell_type": "code",
   "execution_count": 24,
   "id": "ce5c8adb-642f-4efa-9725-286da88292a8",
   "metadata": {},
   "outputs": [],
   "source": [
    "# me = await client.get_dialogs()\n",
    "\n",
    "# async def dump_all_messages(channel):\n",
    "# \t\"\"\"Записывает json-файл с информацией о всех сообщениях канала/чата\"\"\"\n",
    "# \toffset_msg = 0    # номер записи, с которой начинается считывание\n",
    "# \tlimit_msg = 100   # максимальное число записей, передаваемых за один раз\n",
    "\n",
    "# \tall_messages = []   # список всех сообщений\n",
    "# \ttotal_messages = 0\n",
    "# \ttotal_count_limit = 0  # поменяйте это значение, если вам нужны не все сообщения\n",
    "\n",
    "# \tclass DateTimeEncoder(json.JSONEncoder):\n",
    "# \t\t'''Класс для сериализации записи дат в JSON'''\n",
    "# \t\tdef default(self, o):\n",
    "# \t\t\tif isinstance(o, datetime):\n",
    "# \t\t\t\treturn o.isoformat()\n",
    "# \t\t\tif isinstance(o, bytes):\n",
    "# \t\t\t\treturn list(o)\n",
    "# \t\t\treturn json.JSONEncoder.default(self, o)\n",
    "\n",
    "# \twhile True:\n",
    "# \t\thistory = await client(GetHistoryRequest(\n",
    "# \t\t\tpeer=channel,\n",
    "# \t\t\toffset_id=offset_msg,\n",
    "# \t\t\toffset_date=None, add_offset=0,\n",
    "# \t\t\tlimit=limit_msg, max_id=0, min_id=0,\n",
    "# \t\t\thash=0))\n",
    "# \t\tif not history.messages:\n",
    "# \t\t\tbreak\n",
    "# \t\tmessages = history.messages\n",
    "# \t\tfor message in messages:\n",
    "# \t\t\tall_messages.append(message.to_dict())\n",
    "# \t\toffset_msg = messages[len(messages) - 1].id\n",
    "# \t\ttotal_messages = len(all_messages)\n",
    "# \t\tif total_count_limit != 0 and total_messages >= total_count_limit:\n",
    "# \t\t\tbreak\n",
    "\n",
    "# \twith open('channel_messages.json', 'w', encoding='utf8') as outfile:\n",
    "# \t\t json.dump(all_messages, outfile, ensure_ascii=False, cls=DateTimeEncoder)\n",
    "\n",
    "\n",
    "# async def main():\n",
    "# \turl = input(\"Введите ссылку на канал или чат: \")\n",
    "# \tchannel = await client.get_entity(url)\n",
    "# \tawait dump_all_participants(channel)\n",
    "# \tawait dump_all_messages(channel)\n",
    "\n",
    "\n",
    "# with client:\n",
    "# \tclient.loop.run_until_complete(main())"
   ]
  },
  {
   "cell_type": "code",
   "execution_count": 25,
   "id": "1db60c81-af53-4a20-9f88-b02263774419",
   "metadata": {},
   "outputs": [],
   "source": []
  },
  {
   "cell_type": "code",
   "execution_count": 26,
   "id": "1756a989-5acb-4cd1-8f69-8b4965a5384d",
   "metadata": {},
   "outputs": [],
   "source": []
  },
  {
   "cell_type": "code",
   "execution_count": null,
   "id": "bdae0c6c-e93c-4d75-90af-dd813caf700c",
   "metadata": {},
   "outputs": [],
   "source": []
  },
  {
   "cell_type": "code",
   "execution_count": null,
   "id": "90f11d4f-04dc-4807-84d7-3ce02dd158db",
   "metadata": {},
   "outputs": [],
   "source": []
  },
  {
   "cell_type": "code",
   "execution_count": null,
   "id": "b66a34ff-e3b5-4a29-8561-502417cf3006",
   "metadata": {},
   "outputs": [],
   "source": []
  }
 ],
 "metadata": {
  "kernelspec": {
   "display_name": "Python 3 (ipykernel)",
   "language": "python",
   "name": "python3"
  },
  "language_info": {
   "codemirror_mode": {
    "name": "ipython",
    "version": 3
   },
   "file_extension": ".py",
   "mimetype": "text/x-python",
   "name": "python",
   "nbconvert_exporter": "python",
   "pygments_lexer": "ipython3",
   "version": "3.9.13"
  }
 },
 "nbformat": 4,
 "nbformat_minor": 5
}
