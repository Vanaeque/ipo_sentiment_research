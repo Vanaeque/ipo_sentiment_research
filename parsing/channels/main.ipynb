{
 "cells": [
  {
   "cell_type": "code",
   "execution_count": 1,
   "id": "6dcfadd4-903f-454e-9d94-2dc10306c973",
   "metadata": {},
   "outputs": [],
   "source": [
    "import requests\n",
    "from bs4 import BeautifulSoup\n",
    "from fake_useragent import UserAgent\n",
    "\n",
    "import pandas as pd\n",
    "import re\n",
    "import time\n",
    "from tqdm.notebook import tqdm\n",
    "import time\n",
    "\n",
    "import warnings\n",
    "warnings.filterwarnings('ignore')"
   ]
  },
  {
   "cell_type": "markdown",
   "id": "24850b8a-c323-451d-a2d0-027c930d8dcc",
   "metadata": {},
   "source": [
    "### Парсим список каналов\n",
    "\n",
    "Берем произвольный сайт-каталог telegram каналов, из него достаем основную информацию о канале"
   ]
  },
  {
   "cell_type": "code",
   "execution_count": 2,
   "id": "72c77de6-e5f5-477b-8533-4aac54bd8b9d",
   "metadata": {},
   "outputs": [],
   "source": [
    "url = 'https://in.tgstat.com/ru/tag/investments?ysclid=ltxecd5p1e666733084'\n",
    "res = requests.get(url, headers={'User-Agent': UserAgent().chrome})"
   ]
  },
  {
   "cell_type": "code",
   "execution_count": 3,
   "id": "104cab08-432e-4b1f-a878-c2908ecf1218",
   "metadata": {},
   "outputs": [],
   "source": [
    "soup = BeautifulSoup(res.content)"
   ]
  },
  {
   "cell_type": "code",
   "execution_count": 4,
   "id": "1231e8f8-4675-4260-97d4-807be673d21f",
   "metadata": {},
   "outputs": [],
   "source": [
    "channel_blocks = soup.find_all('div', {'class':r'col-12 col-sm-6 col-lg-4'})"
   ]
  },
  {
   "cell_type": "code",
   "execution_count": 5,
   "id": "31c35ba0-f0bf-4606-a61c-00222e4d1998",
   "metadata": {},
   "outputs": [],
   "source": [
    "names = []\n",
    "subscribers = []\n",
    "links = []\n",
    "disc = []\n",
    "\n",
    "for block in channel_blocks:\n",
    "    names.append(block.find('div', {'class' : r'font-16 text-dark text-truncate'}).text)\n",
    "    subscribers.append(int(block.find('div', {'class' : r'font-12 text-truncate'})\\\n",
    "                      .text.strip()[:-12].replace(' ', '')))\n",
    "    disc.append(block.find('div', attrs={'class' : r'font-14 text-muted line-clamp-2 mt-1'}).text.strip())\n",
    "    link = block.find(attrs={'class' : r'text-body'}, href=True)['href']\n",
    "    \n",
    "    dog_sigh_pos = link.find('@')\n",
    "    slash_pos = [m.start() for m in re.finditer('/', link)][-1]\n",
    "    \n",
    "    if dog_sigh_pos != -1:\n",
    "        link = 'https://t.me/' + link[dog_sigh_pos+1:]\n",
    "    else:\n",
    "        link = 'https://t.me/' + link[slash_pos+1:]\n",
    "        \n",
    "    links.append(link)"
   ]
  },
  {
   "cell_type": "code",
   "execution_count": 6,
   "id": "4d53f871-8a7c-4a8e-a672-bfbbe69ed62b",
   "metadata": {},
   "outputs": [
    {
     "name": "stdout",
     "output_type": "stream",
     "text": [
      "(102, 4)\n"
     ]
    },
    {
     "data": {
      "text/html": [
       "<div>\n",
       "<style scoped>\n",
       "    .dataframe tbody tr th:only-of-type {\n",
       "        vertical-align: middle;\n",
       "    }\n",
       "\n",
       "    .dataframe tbody tr th {\n",
       "        vertical-align: top;\n",
       "    }\n",
       "\n",
       "    .dataframe thead th {\n",
       "        text-align: right;\n",
       "    }\n",
       "</style>\n",
       "<table border=\"1\" class=\"dataframe\">\n",
       "  <thead>\n",
       "    <tr style=\"text-align: right;\">\n",
       "      <th></th>\n",
       "      <th>name</th>\n",
       "      <th>subscribers</th>\n",
       "      <th>link</th>\n",
       "      <th>description</th>\n",
       "    </tr>\n",
       "  </thead>\n",
       "  <tbody>\n",
       "    <tr>\n",
       "      <th>0</th>\n",
       "      <td>Тинькофф Инвестиции</td>\n",
       "      <td>670825</td>\n",
       "      <td>https://t.me/tinkoff_invest_official</td>\n",
       "      <td>Официальный канал Тинькофф.</td>\n",
       "    </tr>\n",
       "    <tr>\n",
       "      <th>1</th>\n",
       "      <td>Альфа-Инвестиции</td>\n",
       "      <td>415942</td>\n",
       "      <td>https://t.me/alfa_investments</td>\n",
       "      <td>Официальный канал Альфа-Инвестиций с инвестиде...</td>\n",
       "    </tr>\n",
       "    <tr>\n",
       "      <th>2</th>\n",
       "      <td>Мои Инвестиции</td>\n",
       "      <td>286117</td>\n",
       "      <td>https://t.me/omyinvestments</td>\n",
       "      <td>Инвестидеи, обзоры рынка и многое другое от лу...</td>\n",
       "    </tr>\n",
       "    <tr>\n",
       "      <th>3</th>\n",
       "      <td>bitkogan</td>\n",
       "      <td>284405</td>\n",
       "      <td>https://t.me/bitkogan</td>\n",
       "      <td>Авторский канал Евгения Когана</td>\n",
       "    </tr>\n",
       "    <tr>\n",
       "      <th>4</th>\n",
       "      <td>СберИнвестиции</td>\n",
       "      <td>232751</td>\n",
       "      <td>https://t.me/SberInvestments</td>\n",
       "      <td>Канал СберИнвестиции, в котором мы рассказывае...</td>\n",
       "    </tr>\n",
       "  </tbody>\n",
       "</table>\n",
       "</div>"
      ],
      "text/plain": [
       "                  name  subscribers                                  link  \\\n",
       "0  Тинькофф Инвестиции       670825  https://t.me/tinkoff_invest_official   \n",
       "1     Альфа-Инвестиции       415942         https://t.me/alfa_investments   \n",
       "2       Мои Инвестиции       286117           https://t.me/omyinvestments   \n",
       "3             bitkogan       284405                 https://t.me/bitkogan   \n",
       "4       СберИнвестиции       232751          https://t.me/SberInvestments   \n",
       "\n",
       "                                         description  \n",
       "0                        Официальный канал Тинькофф.  \n",
       "1  Официальный канал Альфа-Инвестиций с инвестиде...  \n",
       "2  Инвестидеи, обзоры рынка и многое другое от лу...  \n",
       "3                     Авторский канал Евгения Когана  \n",
       "4  Канал СберИнвестиции, в котором мы рассказывае...  "
      ]
     },
     "execution_count": 6,
     "metadata": {},
     "output_type": "execute_result"
    }
   ],
   "source": [
    "channels_info = pd.DataFrame({'name' : names,\n",
    "                             'subscribers' : subscribers, \n",
    "                             'link' : links, \n",
    "                             'description' : disc})\n",
    "\n",
    "print(channels_info.shape)\n",
    "channels_info.head()"
   ]
  },
  {
   "cell_type": "code",
   "execution_count": 7,
   "id": "afcdd0e8-ab79-4d79-906b-0d936068eb6b",
   "metadata": {},
   "outputs": [],
   "source": [
    "from telethon import TelegramClient\n",
    "import config"
   ]
  },
  {
   "cell_type": "code",
   "execution_count": 8,
   "id": "a4cc75b1-eb6a-45c7-a60c-005a90061da6",
   "metadata": {},
   "outputs": [],
   "source": [
    "api_id = config.API_ID\n",
    "api_hash = config.API_HASH\n",
    "name = 'test'"
   ]
  },
  {
   "cell_type": "code",
   "execution_count": 9,
   "id": "f52deb13-dd32-41a5-b233-0ac5540b27a0",
   "metadata": {},
   "outputs": [
    {
     "data": {
      "text/plain": [
       "<telethon.client.telegramclient.TelegramClient at 0x7fd681a95250>"
      ]
     },
     "execution_count": 9,
     "metadata": {},
     "output_type": "execute_result"
    }
   ],
   "source": [
    "client = TelegramClient(name, api_id, api_hash)\n",
    "await client.start()"
   ]
  },
  {
   "cell_type": "code",
   "execution_count": 10,
   "id": "92756490-601b-4ff0-8526-2dd17ab92e15",
   "metadata": {},
   "outputs": [],
   "source": [
    "from telethon.tl.functions.messages import GetHistoryRequest"
   ]
  },
  {
   "cell_type": "code",
   "execution_count": 11,
   "id": "8e6cc636-73ee-42b9-a881-d321efe52aac",
   "metadata": {},
   "outputs": [
    {
     "data": {
      "application/vnd.jupyter.widget-view+json": {
       "model_id": "0d0d0629d2594e69bc252e06cb920af6",
       "version_major": 2,
       "version_minor": 0
      },
      "text/plain": [
       "  0%|          | 0/102 [00:00<?, ?it/s]"
      ]
     },
     "metadata": {},
     "output_type": "display_data"
    }
   ],
   "source": [
    "cnt = 0\n",
    "msg = []\n",
    "channels_info['is_restricted'] = True\n",
    "channels_info['error_while_parsing'] = False\n",
    "channels_info['create_date'] = None\n",
    "\n",
    "\n",
    "for i, channel in enumerate(tqdm(channels_info.to_dict('records'))):\n",
    "    try:\n",
    "        url = channel['link']\n",
    "        tg_channel = await client.get_entity(url)\n",
    "        channels_info.at[i, 'create_date'] = pd.to_datetime(tg_channel.to_dict()['date']).tz_localize(None)\n",
    "\n",
    "        history = await client(GetHistoryRequest(\n",
    "            peer=tg_channel,\n",
    "            offset_id=0,\n",
    "            offset_date=None, add_offset=0,\n",
    "            limit=1, max_id=0, min_id=0,\n",
    "            hash=0))\n",
    "\n",
    "    except:\n",
    "        channels_info.at[i, 'error_while_parsing'] = True\n",
    "        \n",
    "    time.sleep(1)"
   ]
  },
  {
   "cell_type": "code",
   "execution_count": 12,
   "id": "1c70df82-9ff8-4b9b-8296-67015be27c74",
   "metadata": {},
   "outputs": [
    {
     "name": "stdout",
     "output_type": "stream",
     "text": [
      "71\n"
     ]
    },
    {
     "data": {
      "text/html": [
       "<div>\n",
       "<style scoped>\n",
       "    .dataframe tbody tr th:only-of-type {\n",
       "        vertical-align: middle;\n",
       "    }\n",
       "\n",
       "    .dataframe tbody tr th {\n",
       "        vertical-align: top;\n",
       "    }\n",
       "\n",
       "    .dataframe thead th {\n",
       "        text-align: right;\n",
       "    }\n",
       "</style>\n",
       "<table border=\"1\" class=\"dataframe\">\n",
       "  <thead>\n",
       "    <tr style=\"text-align: right;\">\n",
       "      <th></th>\n",
       "      <th>channel_id</th>\n",
       "      <th>name</th>\n",
       "      <th>subscribers</th>\n",
       "      <th>link</th>\n",
       "      <th>description</th>\n",
       "      <th>create_date</th>\n",
       "    </tr>\n",
       "  </thead>\n",
       "  <tbody>\n",
       "    <tr>\n",
       "      <th>0</th>\n",
       "      <td>0</td>\n",
       "      <td>Тинькофф Инвестиции</td>\n",
       "      <td>670825</td>\n",
       "      <td>https://t.me/tinkoff_invest_official</td>\n",
       "      <td>Официальный канал Тинькофф.</td>\n",
       "      <td>2019-09-04 15:50:32</td>\n",
       "    </tr>\n",
       "    <tr>\n",
       "      <th>1</th>\n",
       "      <td>1</td>\n",
       "      <td>Альфа-Инвестиции</td>\n",
       "      <td>415942</td>\n",
       "      <td>https://t.me/alfa_investments</td>\n",
       "      <td>Официальный канал Альфа-Инвестиций с инвестиде...</td>\n",
       "      <td>2021-06-18 14:04:01</td>\n",
       "    </tr>\n",
       "    <tr>\n",
       "      <th>2</th>\n",
       "      <td>2</td>\n",
       "      <td>Мои Инвестиции</td>\n",
       "      <td>286117</td>\n",
       "      <td>https://t.me/omyinvestments</td>\n",
       "      <td>Инвестидеи, обзоры рынка и многое другое от лу...</td>\n",
       "      <td>2019-09-12 12:53:25</td>\n",
       "    </tr>\n",
       "    <tr>\n",
       "      <th>3</th>\n",
       "      <td>3</td>\n",
       "      <td>bitkogan</td>\n",
       "      <td>284405</td>\n",
       "      <td>https://t.me/bitkogan</td>\n",
       "      <td>Авторский канал Евгения Когана</td>\n",
       "      <td>2018-01-14 14:46:07</td>\n",
       "    </tr>\n",
       "    <tr>\n",
       "      <th>4</th>\n",
       "      <td>4</td>\n",
       "      <td>СберИнвестиции</td>\n",
       "      <td>232751</td>\n",
       "      <td>https://t.me/SberInvestments</td>\n",
       "      <td>Канал СберИнвестиции, в котором мы рассказывае...</td>\n",
       "      <td>2020-07-24 16:15:43</td>\n",
       "    </tr>\n",
       "    <tr>\n",
       "      <th>5</th>\n",
       "      <td>6</td>\n",
       "      <td>InvestFuture</td>\n",
       "      <td>194786</td>\n",
       "      <td>https://t.me/investfuture</td>\n",
       "      <td>Медиа про деньги https://t.me/addlist/OhM2a9Hh...</td>\n",
       "      <td>2017-11-15 10:25:25</td>\n",
       "    </tr>\n",
       "    <tr>\n",
       "      <th>6</th>\n",
       "      <td>8</td>\n",
       "      <td>Лимон на чай</td>\n",
       "      <td>152532</td>\n",
       "      <td>https://t.me/lemonfortea</td>\n",
       "      <td>Реальный опыт инвестора, со всеми граблями и у...</td>\n",
       "      <td>2017-10-06 07:15:03</td>\n",
       "    </tr>\n",
       "    <tr>\n",
       "      <th>7</th>\n",
       "      <td>9</td>\n",
       "      <td>РынкиДеньгиВласть | РДВ</td>\n",
       "      <td>150076</td>\n",
       "      <td>https://t.me/AK47pfl</td>\n",
       "      <td>аналитика по российскому рынку ценных бумаг, к...</td>\n",
       "      <td>2017-04-05 08:43:54</td>\n",
       "    </tr>\n",
       "    <tr>\n",
       "      <th>8</th>\n",
       "      <td>10</td>\n",
       "      <td>IF Stocks</td>\n",
       "      <td>121468</td>\n",
       "      <td>https://t.me/if_stocks</td>\n",
       "      <td>Реклама: https://t.me/IF_adv</td>\n",
       "      <td>2020-09-20 21:40:46</td>\n",
       "    </tr>\n",
       "    <tr>\n",
       "      <th>9</th>\n",
       "      <td>11</td>\n",
       "      <td>На пенсию в 35 лет</td>\n",
       "      <td>111125</td>\n",
       "      <td>https://t.me/pensiya35</td>\n",
       "      <td>В 35 лет мои доходы от инвестиций превысили ра...</td>\n",
       "      <td>2019-09-24 10:29:11</td>\n",
       "    </tr>\n",
       "  </tbody>\n",
       "</table>\n",
       "</div>"
      ],
      "text/plain": [
       "   channel_id                     name  subscribers  \\\n",
       "0           0      Тинькофф Инвестиции       670825   \n",
       "1           1         Альфа-Инвестиции       415942   \n",
       "2           2           Мои Инвестиции       286117   \n",
       "3           3                 bitkogan       284405   \n",
       "4           4           СберИнвестиции       232751   \n",
       "5           6             InvestFuture       194786   \n",
       "6           8             Лимон на чай       152532   \n",
       "7           9  РынкиДеньгиВласть | РДВ       150076   \n",
       "8          10                IF Stocks       121468   \n",
       "9          11       На пенсию в 35 лет       111125   \n",
       "\n",
       "                                   link  \\\n",
       "0  https://t.me/tinkoff_invest_official   \n",
       "1         https://t.me/alfa_investments   \n",
       "2           https://t.me/omyinvestments   \n",
       "3                 https://t.me/bitkogan   \n",
       "4          https://t.me/SberInvestments   \n",
       "5             https://t.me/investfuture   \n",
       "6              https://t.me/lemonfortea   \n",
       "7                  https://t.me/AK47pfl   \n",
       "8                https://t.me/if_stocks   \n",
       "9                https://t.me/pensiya35   \n",
       "\n",
       "                                         description          create_date  \n",
       "0                        Официальный канал Тинькофф.  2019-09-04 15:50:32  \n",
       "1  Официальный канал Альфа-Инвестиций с инвестиде...  2021-06-18 14:04:01  \n",
       "2  Инвестидеи, обзоры рынка и многое другое от лу...  2019-09-12 12:53:25  \n",
       "3                     Авторский канал Евгения Когана  2018-01-14 14:46:07  \n",
       "4  Канал СберИнвестиции, в котором мы рассказывае...  2020-07-24 16:15:43  \n",
       "5  Медиа про деньги https://t.me/addlist/OhM2a9Hh...  2017-11-15 10:25:25  \n",
       "6  Реальный опыт инвестора, со всеми граблями и у...  2017-10-06 07:15:03  \n",
       "7  аналитика по российскому рынку ценных бумаг, к...  2017-04-05 08:43:54  \n",
       "8                       Реклама: https://t.me/IF_adv  2020-09-20 21:40:46  \n",
       "9  В 35 лет мои доходы от инвестиций превысили ра...  2019-09-24 10:29:11  "
      ]
     },
     "execution_count": 12,
     "metadata": {},
     "output_type": "execute_result"
    }
   ],
   "source": [
    "channels_info = channels_info[~channels_info['error_while_parsing']]\\\n",
    "                            [['name', 'subscribers', 'link', 'description', 'create_date']]\\\n",
    "                            .reset_index().rename({'index' : 'channel_id'}, axis=1)\n",
    "print(len(channels_info))\n",
    "channels_info.head(10)"
   ]
  },
  {
   "cell_type": "markdown",
   "id": "ca549c63-8d12-4670-a5f3-029f8e03068c",
   "metadata": {},
   "source": [
    "Итак, у нас есть 71 telegram каналов с доступом к сообщениям"
   ]
  },
  {
   "cell_type": "code",
   "execution_count": 1,
   "id": "a40a812a-8544-4ca6-9e1f-d7756c9c40e5",
   "metadata": {},
   "outputs": [],
   "source": [
    "channels_info.to_csv('../../../data/telegram/channels.csv', index=False)"
   ]
  },
  {
   "cell_type": "code",
   "execution_count": null,
   "id": "10b2aa15-d96f-48b4-a18c-b8a2a6dae0c6",
   "metadata": {},
   "outputs": [],
   "source": []
  }
 ],
 "metadata": {
  "kernelspec": {
   "display_name": "Python 3 (ipykernel)",
   "language": "python",
   "name": "python3"
  },
  "language_info": {
   "codemirror_mode": {
    "name": "ipython",
    "version": 3
   },
   "file_extension": ".py",
   "mimetype": "text/x-python",
   "name": "python",
   "nbconvert_exporter": "python",
   "pygments_lexer": "ipython3",
   "version": "3.9.13"
  }
 },
 "nbformat": 4,
 "nbformat_minor": 5
}
