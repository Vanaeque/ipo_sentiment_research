{
 "cells": [
  {
   "cell_type": "code",
   "execution_count": null,
   "id": "cc6198d6-363a-41f8-8b59-f4e9003e01c4",
   "metadata": {},
   "outputs": [],
   "source": [
    "import plotly.express as px"
   ]
  },
  {
   "cell_type": "code",
   "execution_count": null,
   "id": "582743d1-763a-4c2b-8c62-6f96e06886c4",
   "metadata": {},
   "outputs": [],
   "source": []
  },
  {
   "cell_type": "code",
   "execution_count": null,
   "id": "fa875321-b64c-4b2a-9c26-a95f5d9691f8",
   "metadata": {},
   "outputs": [],
   "source": [
    "\n",
    "\n",
    "fig = px.histogram(pairs_df, x=\"date\", title='Сообщения во времени')\n",
    "fig.update_layout(\n",
    "    autosize=False,\n",
    "    width=2000,\n",
    "    height=1200,\n",
    ")\n",
    "\n",
    "fig.update_layout(\n",
    "    xaxis_title=\"date\",\n",
    "    yaxis_title=\"cnt\",\n",
    "    )\n",
    "\n",
    "fig.show()"
   ]
  },
  {
   "cell_type": "code",
   "execution_count": null,
   "id": "72b20359-3a00-4900-b39f-823548429c8a",
   "metadata": {},
   "outputs": [],
   "source": [
    "fig = px.histogram(pairs_df.query('company != \"vkontakte\" and company != \"moex\"'), x=\"company\", title='Сообщения с упомянаниями компаний')\n",
    "fig.update_layout(\n",
    "    autosize=False,\n",
    "    width=2000,\n",
    "    height=1200,\n",
    ")\n",
    "\n",
    "fig.update_layout(\n",
    "    xaxis_title=\"Company\",\n",
    "    yaxis_title=\"cnt\",\n",
    "    )\n",
    "\n",
    "fig.show()"
   ]
  }
 ],
 "metadata": {
  "kernelspec": {
   "display_name": "Python 3 (ipykernel)",
   "language": "python",
   "name": "python3"
  },
  "language_info": {
   "codemirror_mode": {
    "name": "ipython",
    "version": 3
   },
   "file_extension": ".py",
   "mimetype": "text/x-python",
   "name": "python",
   "nbconvert_exporter": "python",
   "pygments_lexer": "ipython3",
   "version": "3.9.13"
  }
 },
 "nbformat": 4,
 "nbformat_minor": 5
}
