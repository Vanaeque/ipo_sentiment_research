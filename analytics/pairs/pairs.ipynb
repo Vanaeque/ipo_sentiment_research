{
 "cells": [
  {
   "cell_type": "code",
   "execution_count": 1,
   "id": "6f2ebbd4-a9a3-4bcb-a29d-fc8fae150827",
   "metadata": {},
   "outputs": [],
   "source": [
    "import pandas as pd"
   ]
  },
  {
   "cell_type": "code",
   "execution_count": 23,
   "id": "5fc04fcb-dd34-47b7-9041-4bd5e7c6a95b",
   "metadata": {},
   "outputs": [
    {
     "data": {
      "text/html": [
       "<div>\n",
       "<style scoped>\n",
       "    .dataframe tbody tr th:only-of-type {\n",
       "        vertical-align: middle;\n",
       "    }\n",
       "\n",
       "    .dataframe tbody tr th {\n",
       "        vertical-align: top;\n",
       "    }\n",
       "\n",
       "    .dataframe thead th {\n",
       "        text-align: right;\n",
       "    }\n",
       "</style>\n",
       "<table border=\"1\" class=\"dataframe\">\n",
       "  <thead>\n",
       "    <tr style=\"text-align: right;\">\n",
       "      <th></th>\n",
       "      <th>message_id</th>\n",
       "      <th>channel_id</th>\n",
       "      <th>tg_message_id</th>\n",
       "      <th>date</th>\n",
       "      <th>text</th>\n",
       "      <th>views</th>\n",
       "      <th>forwards</th>\n",
       "      <th>thumb_up_react_cnt</th>\n",
       "      <th>thumb_down_react_cnt</th>\n",
       "      <th>mindblowing_react_cnt</th>\n",
       "      <th>...</th>\n",
       "      <th>banana_react_cnt</th>\n",
       "      <th>poop_react_cnt</th>\n",
       "      <th>rofl_smile_react_cnt</th>\n",
       "      <th>clown_smile_react_cnt</th>\n",
       "      <th>devil_smile_react_cnt</th>\n",
       "      <th>hundred_react_cnt</th>\n",
       "      <th>head_arm_smile_react_cnt</th>\n",
       "      <th>eyes_react_cnt</th>\n",
       "      <th>company</th>\n",
       "      <th>ticker</th>\n",
       "    </tr>\n",
       "  </thead>\n",
       "  <tbody>\n",
       "    <tr>\n",
       "      <th>0</th>\n",
       "      <td>1675</td>\n",
       "      <td>3</td>\n",
       "      <td>22642</td>\n",
       "      <td>2023-10-06 16:37:06</td>\n",
       "      <td>все больше компаний рф заявляют о планах по ip...</td>\n",
       "      <td>65009</td>\n",
       "      <td>84</td>\n",
       "      <td>301</td>\n",
       "      <td>14</td>\n",
       "      <td>0</td>\n",
       "      <td>...</td>\n",
       "      <td>0</td>\n",
       "      <td>0</td>\n",
       "      <td>0</td>\n",
       "      <td>0</td>\n",
       "      <td>0</td>\n",
       "      <td>0</td>\n",
       "      <td>0</td>\n",
       "      <td>0</td>\n",
       "      <td>crystal</td>\n",
       "      <td>KLVZ</td>\n",
       "    </tr>\n",
       "    <tr>\n",
       "      <th>1</th>\n",
       "      <td>1474</td>\n",
       "      <td>3</td>\n",
       "      <td>22861</td>\n",
       "      <td>2023-10-31 11:41:23</td>\n",
       "      <td>🇷🇺 тема ipo на российском фондовом рынке сегод...</td>\n",
       "      <td>63078</td>\n",
       "      <td>63</td>\n",
       "      <td>251</td>\n",
       "      <td>19</td>\n",
       "      <td>0</td>\n",
       "      <td>...</td>\n",
       "      <td>0</td>\n",
       "      <td>0</td>\n",
       "      <td>0</td>\n",
       "      <td>0</td>\n",
       "      <td>0</td>\n",
       "      <td>0</td>\n",
       "      <td>0</td>\n",
       "      <td>0</td>\n",
       "      <td>crystal</td>\n",
       "      <td>KLVZ</td>\n",
       "    </tr>\n",
       "    <tr>\n",
       "      <th>2</th>\n",
       "      <td>758</td>\n",
       "      <td>3</td>\n",
       "      <td>23707</td>\n",
       "      <td>2024-02-20 18:20:41</td>\n",
       "      <td>📺 алкогольная группа «кристалл» уже в этот чет...</td>\n",
       "      <td>69592</td>\n",
       "      <td>119</td>\n",
       "      <td>146</td>\n",
       "      <td>86</td>\n",
       "      <td>0</td>\n",
       "      <td>...</td>\n",
       "      <td>0</td>\n",
       "      <td>0</td>\n",
       "      <td>0</td>\n",
       "      <td>0</td>\n",
       "      <td>0</td>\n",
       "      <td>0</td>\n",
       "      <td>0</td>\n",
       "      <td>0</td>\n",
       "      <td>crystal</td>\n",
       "      <td>KLVZ</td>\n",
       "    </tr>\n",
       "  </tbody>\n",
       "</table>\n",
       "<p>3 rows × 40 columns</p>\n",
       "</div>"
      ],
      "text/plain": [
       "   message_id  channel_id  tg_message_id                date  \\\n",
       "0        1675           3          22642 2023-10-06 16:37:06   \n",
       "1        1474           3          22861 2023-10-31 11:41:23   \n",
       "2         758           3          23707 2024-02-20 18:20:41   \n",
       "\n",
       "                                                text  views  forwards  \\\n",
       "0  все больше компаний рф заявляют о планах по ip...  65009        84   \n",
       "1  🇷🇺 тема ipo на российском фондовом рынке сегод...  63078        63   \n",
       "2  📺 алкогольная группа «кристалл» уже в этот чет...  69592       119   \n",
       "\n",
       "   thumb_up_react_cnt  thumb_down_react_cnt  mindblowing_react_cnt  ...  \\\n",
       "0                 301                    14                      0  ...   \n",
       "1                 251                    19                      0  ...   \n",
       "2                 146                    86                      0  ...   \n",
       "\n",
       "   banana_react_cnt  poop_react_cnt  rofl_smile_react_cnt  \\\n",
       "0                 0               0                     0   \n",
       "1                 0               0                     0   \n",
       "2                 0               0                     0   \n",
       "\n",
       "   clown_smile_react_cnt  devil_smile_react_cnt  hundred_react_cnt  \\\n",
       "0                      0                      0                  0   \n",
       "1                      0                      0                  0   \n",
       "2                      0                      0                  0   \n",
       "\n",
       "   head_arm_smile_react_cnt  eyes_react_cnt  company  ticker  \n",
       "0                         0               0  crystal    KLVZ  \n",
       "1                         0               0  crystal    KLVZ  \n",
       "2                         0               0  crystal    KLVZ  \n",
       "\n",
       "[3 rows x 40 columns]"
      ]
     },
     "execution_count": 23,
     "metadata": {},
     "output_type": "execute_result"
    }
   ],
   "source": [
    "path = '../../data/telegram/messages_info.csv'\n",
    "data_messages = pd.read_csv(path, index_col = 0)\n",
    "data_messages['date'] = pd.to_datetime(data_messages['date'])\n",
    "data_messages.head(3)"
   ]
  },
  {
   "cell_type": "code",
   "execution_count": 24,
   "id": "daa7c6bb-96ec-4619-af8c-616cbad792dc",
   "metadata": {},
   "outputs": [
    {
     "data": {
      "text/html": [
       "<div>\n",
       "<style scoped>\n",
       "    .dataframe tbody tr th:only-of-type {\n",
       "        vertical-align: middle;\n",
       "    }\n",
       "\n",
       "    .dataframe tbody tr th {\n",
       "        vertical-align: top;\n",
       "    }\n",
       "\n",
       "    .dataframe thead th {\n",
       "        text-align: right;\n",
       "    }\n",
       "</style>\n",
       "<table border=\"1\" class=\"dataframe\">\n",
       "  <thead>\n",
       "    <tr style=\"text-align: right;\">\n",
       "      <th></th>\n",
       "      <th>ticker</th>\n",
       "      <th>name_ru</th>\n",
       "      <th>ipo_dt</th>\n",
       "      <th>ipo_price</th>\n",
       "      <th>1d_price</th>\n",
       "      <th>1m_price</th>\n",
       "      <th>3m_price</th>\n",
       "      <th>6m_price</th>\n",
       "    </tr>\n",
       "  </thead>\n",
       "  <tbody>\n",
       "    <tr>\n",
       "      <th>0</th>\n",
       "      <td>KLVZ</td>\n",
       "      <td>Кристалл</td>\n",
       "      <td>2024-02-22</td>\n",
       "      <td>9.5</td>\n",
       "      <td>-0.147</td>\n",
       "      <td>NaN</td>\n",
       "      <td>NaN</td>\n",
       "      <td>NaN</td>\n",
       "    </tr>\n",
       "    <tr>\n",
       "      <th>1</th>\n",
       "      <td>DIAS</td>\n",
       "      <td>Диасофт</td>\n",
       "      <td>2024-02-13</td>\n",
       "      <td>4500.0</td>\n",
       "      <td>0.400</td>\n",
       "      <td>NaN</td>\n",
       "      <td>NaN</td>\n",
       "      <td>NaN</td>\n",
       "    </tr>\n",
       "    <tr>\n",
       "      <th>2</th>\n",
       "      <td>DELI</td>\n",
       "      <td>Делимобиль</td>\n",
       "      <td>2024-06-02</td>\n",
       "      <td>265.0</td>\n",
       "      <td>0.068</td>\n",
       "      <td>0.08</td>\n",
       "      <td>NaN</td>\n",
       "      <td>NaN</td>\n",
       "    </tr>\n",
       "    <tr>\n",
       "      <th>3</th>\n",
       "      <td>MGKL</td>\n",
       "      <td>Мосгорломбард</td>\n",
       "      <td>2023-12-28</td>\n",
       "      <td>2.5</td>\n",
       "      <td>-0.052</td>\n",
       "      <td>-0.01</td>\n",
       "      <td>NaN</td>\n",
       "      <td>NaN</td>\n",
       "    </tr>\n",
       "    <tr>\n",
       "      <th>4</th>\n",
       "      <td>SVCB</td>\n",
       "      <td>Совкомбанк</td>\n",
       "      <td>2023-12-15</td>\n",
       "      <td>11.5</td>\n",
       "      <td>0.087</td>\n",
       "      <td>0.20</td>\n",
       "      <td>NaN</td>\n",
       "      <td>NaN</td>\n",
       "    </tr>\n",
       "  </tbody>\n",
       "</table>\n",
       "</div>"
      ],
      "text/plain": [
       "  ticker        name_ru     ipo_dt  ipo_price  1d_price  1m_price  3m_price  \\\n",
       "0   KLVZ       Кристалл 2024-02-22        9.5    -0.147       NaN       NaN   \n",
       "1   DIAS        Диасофт 2024-02-13     4500.0     0.400       NaN       NaN   \n",
       "2   DELI     Делимобиль 2024-06-02      265.0     0.068      0.08       NaN   \n",
       "3   MGKL  Мосгорломбард 2023-12-28        2.5    -0.052     -0.01       NaN   \n",
       "4   SVCB     Совкомбанк 2023-12-15       11.5     0.087      0.20       NaN   \n",
       "\n",
       "   6m_price  \n",
       "0       NaN  \n",
       "1       NaN  \n",
       "2       NaN  \n",
       "3       NaN  \n",
       "4       NaN  "
      ]
     },
     "execution_count": 24,
     "metadata": {},
     "output_type": "execute_result"
    }
   ],
   "source": [
    "path = '../../data/moex/quots_prep.csv'\n",
    "ipo_data = pd.read_csv(path, index_col = 0)\n",
    "ipo_data['ipo_dt'] = pd.to_datetime(ipo_data['ipo_dt'])\n",
    "ipo_data.head()"
   ]
  },
  {
   "cell_type": "code",
   "execution_count": 25,
   "id": "6c83d3a5-3c48-4fec-90ab-5a1593c3881c",
   "metadata": {},
   "outputs": [
    {
     "data": {
      "text/html": [
       "<div>\n",
       "<style scoped>\n",
       "    .dataframe tbody tr th:only-of-type {\n",
       "        vertical-align: middle;\n",
       "    }\n",
       "\n",
       "    .dataframe tbody tr th {\n",
       "        vertical-align: top;\n",
       "    }\n",
       "\n",
       "    .dataframe thead th {\n",
       "        text-align: right;\n",
       "    }\n",
       "</style>\n",
       "<table border=\"1\" class=\"dataframe\">\n",
       "  <thead>\n",
       "    <tr style=\"text-align: right;\">\n",
       "      <th></th>\n",
       "      <th>message_id</th>\n",
       "      <th>channel_id</th>\n",
       "      <th>tg_message_id</th>\n",
       "      <th>date</th>\n",
       "      <th>text</th>\n",
       "      <th>views</th>\n",
       "      <th>forwards</th>\n",
       "      <th>thumb_up_react_cnt</th>\n",
       "      <th>thumb_down_react_cnt</th>\n",
       "      <th>mindblowing_react_cnt</th>\n",
       "      <th>...</th>\n",
       "      <th>eyes_react_cnt</th>\n",
       "      <th>company</th>\n",
       "      <th>ticker</th>\n",
       "      <th>name_ru</th>\n",
       "      <th>ipo_dt</th>\n",
       "      <th>ipo_price</th>\n",
       "      <th>1d_price</th>\n",
       "      <th>1m_price</th>\n",
       "      <th>3m_price</th>\n",
       "      <th>6m_price</th>\n",
       "    </tr>\n",
       "  </thead>\n",
       "  <tbody>\n",
       "    <tr>\n",
       "      <th>0</th>\n",
       "      <td>1675</td>\n",
       "      <td>3</td>\n",
       "      <td>22642</td>\n",
       "      <td>2023-10-06 16:37:06</td>\n",
       "      <td>все больше компаний рф заявляют о планах по ip...</td>\n",
       "      <td>65009</td>\n",
       "      <td>84</td>\n",
       "      <td>301</td>\n",
       "      <td>14</td>\n",
       "      <td>0</td>\n",
       "      <td>...</td>\n",
       "      <td>0</td>\n",
       "      <td>crystal</td>\n",
       "      <td>KLVZ</td>\n",
       "      <td>Кристалл</td>\n",
       "      <td>2024-02-22</td>\n",
       "      <td>9.5</td>\n",
       "      <td>-0.147</td>\n",
       "      <td>NaN</td>\n",
       "      <td>NaN</td>\n",
       "      <td>NaN</td>\n",
       "    </tr>\n",
       "    <tr>\n",
       "      <th>1</th>\n",
       "      <td>1474</td>\n",
       "      <td>3</td>\n",
       "      <td>22861</td>\n",
       "      <td>2023-10-31 11:41:23</td>\n",
       "      <td>🇷🇺 тема ipo на российском фондовом рынке сегод...</td>\n",
       "      <td>63078</td>\n",
       "      <td>63</td>\n",
       "      <td>251</td>\n",
       "      <td>19</td>\n",
       "      <td>0</td>\n",
       "      <td>...</td>\n",
       "      <td>0</td>\n",
       "      <td>crystal</td>\n",
       "      <td>KLVZ</td>\n",
       "      <td>Кристалл</td>\n",
       "      <td>2024-02-22</td>\n",
       "      <td>9.5</td>\n",
       "      <td>-0.147</td>\n",
       "      <td>NaN</td>\n",
       "      <td>NaN</td>\n",
       "      <td>NaN</td>\n",
       "    </tr>\n",
       "    <tr>\n",
       "      <th>2</th>\n",
       "      <td>758</td>\n",
       "      <td>3</td>\n",
       "      <td>23707</td>\n",
       "      <td>2024-02-20 18:20:41</td>\n",
       "      <td>📺 алкогольная группа «кристалл» уже в этот чет...</td>\n",
       "      <td>69592</td>\n",
       "      <td>119</td>\n",
       "      <td>146</td>\n",
       "      <td>86</td>\n",
       "      <td>0</td>\n",
       "      <td>...</td>\n",
       "      <td>0</td>\n",
       "      <td>crystal</td>\n",
       "      <td>KLVZ</td>\n",
       "      <td>Кристалл</td>\n",
       "      <td>2024-02-22</td>\n",
       "      <td>9.5</td>\n",
       "      <td>-0.147</td>\n",
       "      <td>NaN</td>\n",
       "      <td>NaN</td>\n",
       "      <td>NaN</td>\n",
       "    </tr>\n",
       "  </tbody>\n",
       "</table>\n",
       "<p>3 rows × 47 columns</p>\n",
       "</div>"
      ],
      "text/plain": [
       "   message_id  channel_id  tg_message_id                date  \\\n",
       "0        1675           3          22642 2023-10-06 16:37:06   \n",
       "1        1474           3          22861 2023-10-31 11:41:23   \n",
       "2         758           3          23707 2024-02-20 18:20:41   \n",
       "\n",
       "                                                text  views  forwards  \\\n",
       "0  все больше компаний рф заявляют о планах по ip...  65009        84   \n",
       "1  🇷🇺 тема ipo на российском фондовом рынке сегод...  63078        63   \n",
       "2  📺 алкогольная группа «кристалл» уже в этот чет...  69592       119   \n",
       "\n",
       "   thumb_up_react_cnt  thumb_down_react_cnt  mindblowing_react_cnt  ...  \\\n",
       "0                 301                    14                      0  ...   \n",
       "1                 251                    19                      0  ...   \n",
       "2                 146                    86                      0  ...   \n",
       "\n",
       "   eyes_react_cnt  company  ticker   name_ru     ipo_dt  ipo_price  1d_price  \\\n",
       "0               0  crystal    KLVZ  Кристалл 2024-02-22        9.5    -0.147   \n",
       "1               0  crystal    KLVZ  Кристалл 2024-02-22        9.5    -0.147   \n",
       "2               0  crystal    KLVZ  Кристалл 2024-02-22        9.5    -0.147   \n",
       "\n",
       "   1m_price  3m_price  6m_price  \n",
       "0       NaN       NaN       NaN  \n",
       "1       NaN       NaN       NaN  \n",
       "2       NaN       NaN       NaN  \n",
       "\n",
       "[3 rows x 47 columns]"
      ]
     },
     "execution_count": 25,
     "metadata": {},
     "output_type": "execute_result"
    }
   ],
   "source": [
    "data = pd.merge(data_messages, ipo_data, how='inner', left_on='ticker', right_on='ticker')\n",
    "data.head(3)"
   ]
  },
  {
   "cell_type": "code",
   "execution_count": 35,
   "id": "1152346f-2394-4a3e-81bd-eb609e125132",
   "metadata": {},
   "outputs": [],
   "source": [
    "data['days_before_ipo'] = data.apply(lambda x: (x['date'] - x['ipo_dt']).days, axis = 1)"
   ]
  },
  {
   "cell_type": "code",
   "execution_count": 141,
   "id": "7a9a8ccf-c466-4d9c-903a-d3580d5764fb",
   "metadata": {},
   "outputs": [],
   "source": [
    "# import plotly.express as px\n",
    "\n",
    "# fig = px.histogram(data, x=\"days_before_ipo\", title='Распределение дней до IPO')\n",
    "# fig.update_layout(\n",
    "#     autosize=False,\n",
    "#     width=2000,\n",
    "#     height=1200,\n",
    "# )\n",
    "\n",
    "# fig.update_layout(\n",
    "#     xaxis_title=\"date\",\n",
    "#     yaxis_title=\"cnt\",\n",
    "#     )\n",
    "\n",
    "# fig.show()"
   ]
  },
  {
   "cell_type": "code",
   "execution_count": 42,
   "id": "4ecdb258-5c55-4118-934a-de3c9fe3857d",
   "metadata": {},
   "outputs": [],
   "source": [
    "data['text_len'] = data['text'].apply(lambda x: len(x))"
   ]
  },
  {
   "cell_type": "code",
   "execution_count": 43,
   "id": "4c0cbf8f-ea18-4cf9-b631-9eb0ac375ef6",
   "metadata": {},
   "outputs": [
    {
     "data": {
      "text/plain": [
       "Index(['message_id', 'channel_id', 'tg_message_id', 'date', 'text', 'views',\n",
       "       'forwards', 'thumb_up_react_cnt', 'thumb_down_react_cnt',\n",
       "       'mindblowing_react_cnt', 'heart_react_cnt', 'thinking_react_cnt',\n",
       "       'crying_react_cnt', 'fire_react_cnt', 'clap_react_cnt',\n",
       "       'whale_react_cnt', 'champaign_react_cnt', 'heart_fire_react_cnt',\n",
       "       'okay_react_cnt', 'smile_stars_react_cnt', 'smiling_react_cnt',\n",
       "       'cheers_react_cnt', 'lovely_smile_react_cnt', 'drunk_smile_react_cnt',\n",
       "       'angry_smile_react_cnt', 'shicked_smile_react_cnt',\n",
       "       'moos_smile_react_cnt', 'hotdog_react_cnt', 'free_bird_react_cnt',\n",
       "       'snowman_react_cnt', 'banana_react_cnt', 'poop_react_cnt',\n",
       "       'rofl_smile_react_cnt', 'clown_smile_react_cnt',\n",
       "       'devil_smile_react_cnt', 'hundred_react_cnt',\n",
       "       'head_arm_smile_react_cnt', 'eyes_react_cnt', 'company', 'ticker',\n",
       "       'name_ru', 'ipo_dt', 'ipo_price', '1d_price', '1m_price', '3m_price',\n",
       "       '6m_price', 'days_before_ipo', 'text_len'],\n",
       "      dtype='object')"
      ]
     },
     "execution_count": 43,
     "metadata": {},
     "output_type": "execute_result"
    }
   ],
   "source": [
    "data.columns"
   ]
  },
  {
   "cell_type": "code",
   "execution_count": 45,
   "id": "00a4c11f-8923-4259-8817-34b3dc8bc2ce",
   "metadata": {},
   "outputs": [],
   "source": [
    "cols = ['views', 'forwards', 'thumb_up_react_cnt', 'thumb_down_react_cnt',\n",
    "       'mindblowing_react_cnt', 'heart_react_cnt', 'thinking_react_cnt',\n",
    "       'crying_react_cnt', 'fire_react_cnt', 'clap_react_cnt',\n",
    "       'whale_react_cnt', 'champaign_react_cnt', 'heart_fire_react_cnt',\n",
    "       'okay_react_cnt', 'smile_stars_react_cnt', 'smiling_react_cnt',\n",
    "       'cheers_react_cnt', 'lovely_smile_react_cnt', 'drunk_smile_react_cnt',\n",
    "       'angry_smile_react_cnt', 'shicked_smile_react_cnt',\n",
    "       'moos_smile_react_cnt', 'hotdog_react_cnt', 'free_bird_react_cnt',\n",
    "       'snowman_react_cnt', 'banana_react_cnt', 'poop_react_cnt',\n",
    "       'rofl_smile_react_cnt', 'clown_smile_react_cnt',\n",
    "       'devil_smile_react_cnt', 'hundred_react_cnt',\n",
    "       'head_arm_smile_react_cnt', 'eyes_react_cnt', '1d_price', '1m_price', '3m_price',\n",
    "       '6m_price', 'days_before_ipo', 'text_len']"
   ]
  },
  {
   "cell_type": "code",
   "execution_count": 52,
   "id": "177c0831-e81e-4b1e-b565-7c2518b1736d",
   "metadata": {},
   "outputs": [
    {
     "data": {
      "text/html": [
       "<div>\n",
       "<style scoped>\n",
       "    .dataframe tbody tr th:only-of-type {\n",
       "        vertical-align: middle;\n",
       "    }\n",
       "\n",
       "    .dataframe tbody tr th {\n",
       "        vertical-align: top;\n",
       "    }\n",
       "\n",
       "    .dataframe thead th {\n",
       "        text-align: right;\n",
       "    }\n",
       "</style>\n",
       "<table border=\"1\" class=\"dataframe\">\n",
       "  <thead>\n",
       "    <tr style=\"text-align: right;\">\n",
       "      <th></th>\n",
       "      <th>message_id</th>\n",
       "      <th>channel_id</th>\n",
       "      <th>tg_message_id</th>\n",
       "      <th>date</th>\n",
       "      <th>text</th>\n",
       "      <th>views</th>\n",
       "      <th>forwards</th>\n",
       "      <th>thumb_up_react_cnt</th>\n",
       "      <th>thumb_down_react_cnt</th>\n",
       "      <th>mindblowing_react_cnt</th>\n",
       "      <th>...</th>\n",
       "      <th>ticker</th>\n",
       "      <th>name_ru</th>\n",
       "      <th>ipo_dt</th>\n",
       "      <th>ipo_price</th>\n",
       "      <th>1d_price</th>\n",
       "      <th>1m_price</th>\n",
       "      <th>3m_price</th>\n",
       "      <th>6m_price</th>\n",
       "      <th>days_before_ipo</th>\n",
       "      <th>text_len</th>\n",
       "    </tr>\n",
       "  </thead>\n",
       "  <tbody>\n",
       "    <tr>\n",
       "      <th>15</th>\n",
       "      <td>8996</td>\n",
       "      <td>10</td>\n",
       "      <td>6961</td>\n",
       "      <td>2024-02-23 12:13:49</td>\n",
       "      <td>😢 почему не полетел кристалл?\\n\\nсовкомбанк, д...</td>\n",
       "      <td>38519</td>\n",
       "      <td>44</td>\n",
       "      <td>113</td>\n",
       "      <td>0</td>\n",
       "      <td>0</td>\n",
       "      <td>...</td>\n",
       "      <td>KLVZ</td>\n",
       "      <td>Кристалл</td>\n",
       "      <td>2024-02-22</td>\n",
       "      <td>9.5</td>\n",
       "      <td>-0.147</td>\n",
       "      <td>NaN</td>\n",
       "      <td>NaN</td>\n",
       "      <td>NaN</td>\n",
       "      <td>1</td>\n",
       "      <td>1266</td>\n",
       "    </tr>\n",
       "    <tr>\n",
       "      <th>16</th>\n",
       "      <td>8961</td>\n",
       "      <td>10</td>\n",
       "      <td>7001</td>\n",
       "      <td>2024-03-06 13:23:16</td>\n",
       "      <td>🤑 мосбиржа раздает большие дивиденды. это тепе...</td>\n",
       "      <td>31873</td>\n",
       "      <td>46</td>\n",
       "      <td>152</td>\n",
       "      <td>0</td>\n",
       "      <td>0</td>\n",
       "      <td>...</td>\n",
       "      <td>KLVZ</td>\n",
       "      <td>Кристалл</td>\n",
       "      <td>2024-02-22</td>\n",
       "      <td>9.5</td>\n",
       "      <td>-0.147</td>\n",
       "      <td>NaN</td>\n",
       "      <td>NaN</td>\n",
       "      <td>NaN</td>\n",
       "      <td>13</td>\n",
       "      <td>1376</td>\n",
       "    </tr>\n",
       "    <tr>\n",
       "      <th>40</th>\n",
       "      <td>23268</td>\n",
       "      <td>21</td>\n",
       "      <td>12010</td>\n",
       "      <td>2024-03-22 05:31:32</td>\n",
       "      <td>россия нанесла удар по немецкому алкоголю\\n\\nа...</td>\n",
       "      <td>17746</td>\n",
       "      <td>73</td>\n",
       "      <td>60</td>\n",
       "      <td>0</td>\n",
       "      <td>0</td>\n",
       "      <td>...</td>\n",
       "      <td>KLVZ</td>\n",
       "      <td>Кристалл</td>\n",
       "      <td>2024-02-22</td>\n",
       "      <td>9.5</td>\n",
       "      <td>-0.147</td>\n",
       "      <td>NaN</td>\n",
       "      <td>NaN</td>\n",
       "      <td>NaN</td>\n",
       "      <td>29</td>\n",
       "      <td>1631</td>\n",
       "    </tr>\n",
       "  </tbody>\n",
       "</table>\n",
       "<p>3 rows × 49 columns</p>\n",
       "</div>"
      ],
      "text/plain": [
       "    message_id  channel_id  tg_message_id                date  \\\n",
       "15        8996          10           6961 2024-02-23 12:13:49   \n",
       "16        8961          10           7001 2024-03-06 13:23:16   \n",
       "40       23268          21          12010 2024-03-22 05:31:32   \n",
       "\n",
       "                                                 text  views  forwards  \\\n",
       "15  😢 почему не полетел кристалл?\\n\\nсовкомбанк, д...  38519        44   \n",
       "16  🤑 мосбиржа раздает большие дивиденды. это тепе...  31873        46   \n",
       "40  россия нанесла удар по немецкому алкоголю\\n\\nа...  17746        73   \n",
       "\n",
       "    thumb_up_react_cnt  thumb_down_react_cnt  mindblowing_react_cnt  ...  \\\n",
       "15                 113                     0                      0  ...   \n",
       "16                 152                     0                      0  ...   \n",
       "40                  60                     0                      0  ...   \n",
       "\n",
       "    ticker   name_ru     ipo_dt  ipo_price  1d_price  1m_price  3m_price  \\\n",
       "15    KLVZ  Кристалл 2024-02-22        9.5    -0.147       NaN       NaN   \n",
       "16    KLVZ  Кристалл 2024-02-22        9.5    -0.147       NaN       NaN   \n",
       "40    KLVZ  Кристалл 2024-02-22        9.5    -0.147       NaN       NaN   \n",
       "\n",
       "    6m_price  days_before_ipo  text_len  \n",
       "15       NaN                1      1266  \n",
       "16       NaN               13      1376  \n",
       "40       NaN               29      1631  \n",
       "\n",
       "[3 rows x 49 columns]"
      ]
     },
     "execution_count": 52,
     "metadata": {},
     "output_type": "execute_result"
    }
   ],
   "source": [
    "data.query('days_before_ipo > 0').head(3)"
   ]
  },
  {
   "cell_type": "code",
   "execution_count": 56,
   "id": "5bde47b2-47c8-4f41-bc0b-2a736b2359da",
   "metadata": {},
   "outputs": [],
   "source": [
    "cols = ['views', 'forwards', 'thumb_up_react_cnt', 'thumb_down_react_cnt',\n",
    "       'mindblowing_react_cnt', 'heart_react_cnt', 'thinking_react_cnt',\n",
    "       'crying_react_cnt', 'fire_react_cnt', 'clap_react_cnt',\n",
    "       'whale_react_cnt', 'champaign_react_cnt', 'heart_fire_react_cnt',\n",
    "       'okay_react_cnt', 'smile_stars_react_cnt', 'smiling_react_cnt',\n",
    "       'cheers_react_cnt', 'lovely_smile_react_cnt', 'drunk_smile_react_cnt',\n",
    "       'angry_smile_react_cnt', 'shicked_smile_react_cnt',\n",
    "       'moos_smile_react_cnt', 'hotdog_react_cnt', 'free_bird_react_cnt',\n",
    "       'snowman_react_cnt', 'banana_react_cnt', 'poop_react_cnt',\n",
    "       'rofl_smile_react_cnt', 'clown_smile_react_cnt',\n",
    "       'devil_smile_react_cnt', 'hundred_react_cnt',\n",
    "       'head_arm_smile_react_cnt', 'eyes_react_cnt', 'days_before_ipo', 'text_len']\n",
    "target = ['1d_price']"
   ]
  },
  {
   "cell_type": "markdown",
   "id": "9075c4f2-be4e-40d2-8748-d18fb955beeb",
   "metadata": {},
   "source": [
    "## Регрессия"
   ]
  },
  {
   "cell_type": "markdown",
   "id": "69e997e0-316b-4ab4-8061-1e52b9b9c957",
   "metadata": {},
   "source": [
    "### Линейная модель"
   ]
  },
  {
   "cell_type": "code",
   "execution_count": 60,
   "id": "a59a3dea-5004-4308-a25a-3527cab62768",
   "metadata": {},
   "outputs": [],
   "source": [
    "X = data.query('days_before_ipo > 0')[cols]\n",
    "y = data.query('days_before_ipo > 0')[target]"
   ]
  },
  {
   "cell_type": "code",
   "execution_count": 72,
   "id": "ece6cb3e-49ca-4df0-8bae-ef0fbf576417",
   "metadata": {},
   "outputs": [],
   "source": [
    "from sklearn.linear_model import LinearRegression\n",
    "from sklearn.model_selection import train_test_split\n",
    "from sklearn.metrics import mean_absolute_error, mean_squared_error"
   ]
  },
  {
   "cell_type": "code",
   "execution_count": 73,
   "id": "a845ad7f-2ab5-4f42-8578-020b1419ed64",
   "metadata": {},
   "outputs": [],
   "source": [
    "X_train, X_test, y_train, y_test = train_test_split(X, y, test_size=.20, random_state=0)"
   ]
  },
  {
   "cell_type": "code",
   "execution_count": 74,
   "id": "63c53c14-74a6-4e91-8c60-e60a1a99d031",
   "metadata": {},
   "outputs": [],
   "source": [
    "model = LinearRegression()\n",
    "\n",
    "model.fit(X_train, y_train)\n",
    "\n",
    "y_pred_train = model.predict(X_train)\n",
    "y_pred_test = model.predict(X_test)"
   ]
  },
  {
   "cell_type": "code",
   "execution_count": 75,
   "id": "414e3ae6-0b85-41a7-954d-590f199283e5",
   "metadata": {},
   "outputs": [
    {
     "data": {
      "text/plain": [
       "0.058034021091323"
      ]
     },
     "execution_count": 75,
     "metadata": {},
     "output_type": "execute_result"
    }
   ],
   "source": [
    "mape = mean_absolute_error(y_train, y_pred_train)\n",
    "mape"
   ]
  },
  {
   "cell_type": "code",
   "execution_count": 76,
   "id": "7f71a84e-f20d-4433-83c0-3836aa577c44",
   "metadata": {},
   "outputs": [
    {
     "data": {
      "text/plain": [
       "0.05722968987329505"
      ]
     },
     "execution_count": 76,
     "metadata": {},
     "output_type": "execute_result"
    }
   ],
   "source": [
    "mape = mean_absolute_error(y_test, y_pred_test)\n",
    "mape"
   ]
  },
  {
   "cell_type": "markdown",
   "id": "8cd442f8-982c-48c9-bf52-27dd5d3fef85",
   "metadata": {},
   "source": [
    "### Бустинг на все данные"
   ]
  },
  {
   "cell_type": "code",
   "execution_count": 77,
   "id": "a70b3d68-aebd-4a4a-9e01-5c7cbb4a2934",
   "metadata": {},
   "outputs": [],
   "source": [
    "from lightgbm import LGBMRegressor"
   ]
  },
  {
   "cell_type": "code",
   "execution_count": 78,
   "id": "03720d75-0b64-4cb9-81df-106a3cf84b1e",
   "metadata": {},
   "outputs": [],
   "source": [
    "model = LGBMRegressor()\n",
    "\n",
    "model.fit(X_train, y_train)\n",
    "\n",
    "y_pred_train = model.predict(X_train)\n",
    "y_pred_test = model.predict(X_test)"
   ]
  },
  {
   "cell_type": "code",
   "execution_count": 79,
   "id": "e343a2b5-750c-40c9-b84f-4a646bf089f3",
   "metadata": {},
   "outputs": [
    {
     "data": {
      "text/plain": [
       "0.033689934530792595"
      ]
     },
     "execution_count": 79,
     "metadata": {},
     "output_type": "execute_result"
    }
   ],
   "source": [
    "mape = mean_absolute_error(y_train, y_pred_train)\n",
    "mape"
   ]
  },
  {
   "cell_type": "code",
   "execution_count": 80,
   "id": "38f29f5e-4bea-4462-b43b-0eccd7e6106f",
   "metadata": {},
   "outputs": [
    {
     "data": {
      "text/plain": [
       "0.03556593473301433"
      ]
     },
     "execution_count": 80,
     "metadata": {},
     "output_type": "execute_result"
    }
   ],
   "source": [
    "mape = mean_absolute_error(y_test, y_pred_test)\n",
    "mape"
   ]
  },
  {
   "cell_type": "markdown",
   "id": "4471f49d-52fa-4e98-9b7f-5b38804ea2e7",
   "metadata": {},
   "source": [
    "## Бинарные модели"
   ]
  },
  {
   "cell_type": "markdown",
   "id": "5ea9c2d0-9eaf-4499-b2fc-ee782b1ae430",
   "metadata": {},
   "source": [
    "### Логрег"
   ]
  },
  {
   "cell_type": "code",
   "execution_count": 118,
   "id": "1cd175b4-a05b-4fb5-ba20-2f5d63dd1fbf",
   "metadata": {},
   "outputs": [],
   "source": [
    "X = data.query('days_before_ipo > 0')[cols]\n",
    "y = data.query('days_before_ipo > 0')[target]\n",
    "y = (y > 0).astype(int)"
   ]
  },
  {
   "cell_type": "code",
   "execution_count": 119,
   "id": "0cef772c-c3a4-43ec-8cb2-e89cff80bf66",
   "metadata": {},
   "outputs": [],
   "source": [
    "X_train, X_test, y_train, y_test = train_test_split(X, y, test_size=.20, random_state=0)"
   ]
  },
  {
   "cell_type": "code",
   "execution_count": 120,
   "id": "00e55ab6-ba09-48c5-8a09-10c6519634e9",
   "metadata": {},
   "outputs": [],
   "source": [
    "from sklearn.linear_model import LogisticRegression"
   ]
  },
  {
   "cell_type": "code",
   "execution_count": 121,
   "id": "6474d027-b9bb-4b58-b3ec-defdc1144f8d",
   "metadata": {},
   "outputs": [
    {
     "name": "stderr",
     "output_type": "stream",
     "text": [
      "/Users/vaneque/opt/anaconda3/lib/python3.9/site-packages/sklearn/utils/validation.py:1143: DataConversionWarning: A column-vector y was passed when a 1d array was expected. Please change the shape of y to (n_samples, ), for example using ravel().\n",
      "  y = column_or_1d(y, warn=True)\n"
     ]
    }
   ],
   "source": [
    "model = LogisticRegression()\n",
    "\n",
    "model.fit(X_train, y_train)\n",
    "\n",
    "y_pred_train = model.predict(X_train)\n",
    "y_pred_test = model.predict(X_test)"
   ]
  },
  {
   "cell_type": "code",
   "execution_count": 124,
   "id": "2514d7e9-62b7-40dc-9daa-1480080df96d",
   "metadata": {},
   "outputs": [],
   "source": [
    "from sklearn.metrics import roc_auc_score, accuracy_score"
   ]
  },
  {
   "cell_type": "code",
   "execution_count": 128,
   "id": "0391f59e-da73-449f-bd81-6aaceadec76c",
   "metadata": {},
   "outputs": [
    {
     "data": {
      "text/plain": [
       "0.8120675966882159"
      ]
     },
     "execution_count": 128,
     "metadata": {},
     "output_type": "execute_result"
    }
   ],
   "source": [
    "accuracy_score(y_train, y_pred_train)"
   ]
  },
  {
   "cell_type": "code",
   "execution_count": 129,
   "id": "8674e505-861e-4cb8-a775-b2e4ee19de24",
   "metadata": {},
   "outputs": [
    {
     "data": {
      "text/plain": [
       "0.8118308836871712"
      ]
     },
     "execution_count": 129,
     "metadata": {},
     "output_type": "execute_result"
    }
   ],
   "source": [
    "accuracy_score(y_test, y_pred_test)"
   ]
  },
  {
   "cell_type": "code",
   "execution_count": 130,
   "id": "33a60fa4-ff90-4417-8abe-d2a8365fb213",
   "metadata": {},
   "outputs": [],
   "source": [
    "y_pred_train = model.predict_proba(X_train)[:, 1]\n",
    "y_pred_test = model.predict_proba(X_test)[:, 1]"
   ]
  },
  {
   "cell_type": "code",
   "execution_count": 131,
   "id": "e6f4c8fd-2944-4e60-b31e-1e5936966868",
   "metadata": {},
   "outputs": [
    {
     "data": {
      "text/plain": [
       "0.6694125005739774"
      ]
     },
     "execution_count": 131,
     "metadata": {},
     "output_type": "execute_result"
    }
   ],
   "source": [
    "roc_auc_score(y_train, y_pred_train)"
   ]
  },
  {
   "cell_type": "code",
   "execution_count": 132,
   "id": "bd0f3863-0940-48cc-9c1e-aa66922fa41d",
   "metadata": {},
   "outputs": [
    {
     "data": {
      "text/plain": [
       "0.6657232814754477"
      ]
     },
     "execution_count": 132,
     "metadata": {},
     "output_type": "execute_result"
    }
   ],
   "source": [
    "roc_auc_score(y_test, y_pred_test)"
   ]
  },
  {
   "cell_type": "markdown",
   "id": "e9fdc90e-c563-4ab9-8bf2-5810ad5f631c",
   "metadata": {},
   "source": [
    "### Бустинг"
   ]
  },
  {
   "cell_type": "code",
   "execution_count": 133,
   "id": "b367931e-8249-4076-b421-133bda0b07f2",
   "metadata": {},
   "outputs": [],
   "source": [
    "from lightgbm import LGBMClassifier"
   ]
  },
  {
   "cell_type": "code",
   "execution_count": 134,
   "id": "9e914803-c18f-442f-9c90-f40f58fc9ac0",
   "metadata": {},
   "outputs": [
    {
     "name": "stderr",
     "output_type": "stream",
     "text": [
      "/Users/vaneque/opt/anaconda3/lib/python3.9/site-packages/sklearn/preprocessing/_label.py:99: DataConversionWarning: A column-vector y was passed when a 1d array was expected. Please change the shape of y to (n_samples, ), for example using ravel().\n",
      "  y = column_or_1d(y, warn=True)\n",
      "/Users/vaneque/opt/anaconda3/lib/python3.9/site-packages/sklearn/preprocessing/_label.py:134: DataConversionWarning: A column-vector y was passed when a 1d array was expected. Please change the shape of y to (n_samples, ), for example using ravel().\n",
      "  y = column_or_1d(y, dtype=self.classes_.dtype, warn=True)\n"
     ]
    }
   ],
   "source": [
    "model = LGBMClassifier()\n",
    "\n",
    "model.fit(X_train, y_train)\n",
    "\n",
    "y_pred_train = model.predict(X_train)\n",
    "y_pred_test = model.predict(X_test)"
   ]
  },
  {
   "cell_type": "code",
   "execution_count": 135,
   "id": "b8954aa8-e218-4bc6-884b-e3638e4ec55e",
   "metadata": {},
   "outputs": [
    {
     "data": {
      "text/plain": [
       "0.8889645003969604"
      ]
     },
     "execution_count": 135,
     "metadata": {},
     "output_type": "execute_result"
    }
   ],
   "source": [
    "accuracy_score(y_train, y_pred_train)"
   ]
  },
  {
   "cell_type": "code",
   "execution_count": 136,
   "id": "4fdf91d0-21aa-46e9-9925-3ed44ed684d9",
   "metadata": {},
   "outputs": [
    {
     "data": {
      "text/plain": [
       "0.8727998548357829"
      ]
     },
     "execution_count": 136,
     "metadata": {},
     "output_type": "execute_result"
    }
   ],
   "source": [
    "accuracy_score(y_test, y_pred_test)"
   ]
  },
  {
   "cell_type": "code",
   "execution_count": 137,
   "id": "573ace8b-b2de-41a6-bfca-3740875d00f3",
   "metadata": {},
   "outputs": [],
   "source": [
    "y_pred_train = model.predict_proba(X_train)[:, 1]\n",
    "y_pred_test = model.predict_proba(X_test)[:, 1]"
   ]
  },
  {
   "cell_type": "code",
   "execution_count": 138,
   "id": "79ae9e94-72c7-4fab-b958-da9edfe0198e",
   "metadata": {},
   "outputs": [
    {
     "data": {
      "text/plain": [
       "0.9134416373417114"
      ]
     },
     "execution_count": 138,
     "metadata": {},
     "output_type": "execute_result"
    }
   ],
   "source": [
    "roc_auc_score(y_train, y_pred_train)"
   ]
  },
  {
   "cell_type": "code",
   "execution_count": 139,
   "id": "506132a4-123c-4e1e-8f40-fbaec8cee786",
   "metadata": {},
   "outputs": [
    {
     "data": {
      "text/plain": [
       "0.8820175559881942"
      ]
     },
     "execution_count": 139,
     "metadata": {},
     "output_type": "execute_result"
    }
   ],
   "source": [
    "roc_auc_score(y_test, y_pred_test)"
   ]
  },
  {
   "cell_type": "code",
   "execution_count": null,
   "id": "176dcd4d-f3c2-4289-b87d-e793322ba47e",
   "metadata": {},
   "outputs": [],
   "source": []
  },
  {
   "cell_type": "code",
   "execution_count": null,
   "id": "ac42d2c9-0aa5-4e22-bb55-5e77cd7c6fcd",
   "metadata": {},
   "outputs": [],
   "source": []
  }
 ],
 "metadata": {
  "kernelspec": {
   "display_name": "Python 3 (ipykernel)",
   "language": "python",
   "name": "python3"
  },
  "language_info": {
   "codemirror_mode": {
    "name": "ipython",
    "version": 3
   },
   "file_extension": ".py",
   "mimetype": "text/x-python",
   "name": "python",
   "nbconvert_exporter": "python",
   "pygments_lexer": "ipython3",
   "version": "3.9.13"
  }
 },
 "nbformat": 4,
 "nbformat_minor": 5
}
